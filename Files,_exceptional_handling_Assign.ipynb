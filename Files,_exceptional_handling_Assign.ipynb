{
  "nbformat": 4,
  "nbformat_minor": 0,
  "metadata": {
    "colab": {
      "provenance": []
    },
    "kernelspec": {
      "name": "python3",
      "display_name": "Python 3"
    },
    "language_info": {
      "name": "python"
    }
  },
  "cells": [
    {
      "cell_type": "markdown",
      "source": [
        "1.  What is the difference between interpreted and compiled languages?\n",
        "    -> Compiled languages are translated into machine code all at once using a compiler, producing an executable file (e.g., C, C++). Interpreted languages are executed line-by-line by an interpreter at runtime (e.g., Python, JavaScript).\n",
        "    Compiled code runs faster but takes time to compile, while interpreted code is more flexible and easier to debug.\n",
        "\n",
        "2. What is exception handling in Python?\n",
        "    -> Exception handling in Python is a way to manage errors that occur during program execution using try, except, else, and finally blocks. It prevents the program from crashing and allows you to handle errors gracefully.\n",
        "    For example, it can catch errors like division by zero or file not found and provide a meaningful response.  \n",
        "\n",
        "3. What is the purpose of the finally block in exception handling?\n",
        "    -> The finally block is used to define code that should run no matter what—whether an exception occurs or not. It is often used for cleanup actions like closing files or releasing resources.\n",
        "    This block ensures that important cleanup code is always executed at the end of the try...except structure.      \n",
        "\n",
        "4. What is logging in Python?\n",
        "    -> Logging in Python is a way to record messages about a program’s execution, useful for debugging and tracking runtime behavior. The logging module lets you log events at different levels like DEBUG, INFO, WARNING, ERROR, and CRITICAL.\n",
        "    It helps in understanding program flow and issues without using print statements.\n",
        "\n",
        "5. What is the significance of the __del__ method in Python?\n",
        "    -> The __del__ method is a special method called a destructor, which is automatically invoked when an object is about to be destroyed. It’s used to clean up resources like closing files or network connections.\n",
        "    However, its use is limited and should be handled carefully, as the exact time of its execution is not always predictable.       \n",
        "\n",
        "6.  What is the difference between import and from ... import in Python?\n",
        "    -> import module imports the entire module, and you access its functions or classes using module.name.\n",
        "    from module import name imports only a specific function, class, or variable directly, so you can use name without prefixing the module.\n",
        "    Use import for better readability and from ... import for brevity.   \n",
        "\n",
        "7. How can you handle multiple exceptions in Python?\n",
        "    -> You can handle multiple exceptions using multiple except blocks for different error types, or by grouping them in a single block using a tuple.\n",
        "\n",
        "8. What is the purpose of the with statement when handling files in Python?\n",
        "    -> The with statement is used for resource management, especially for opening files. It ensures the file is automatically closed after the block is executed, even if an exception occurs.\n",
        "    This makes the code cleaner and prevents resource leaks or manual closing errors.        \n",
        "\n",
        "9. What is the difference between multithreading and multiprocessing?\n",
        "    -> Multithreading runs multiple threads within a single process, sharing the same memory space—ideal for I/O-bound tasks.\n",
        "    Multiprocessing runs multiple processes, each with its own memory space—better for CPU-bound tasks that require parallel execution.\n",
        "    Multiprocessing avoids the Global Interpreter Lock (GIL), making it more suitable for heavy computations in Python.    \n",
        "\n",
        "10. What are the advantages of using logging in a program?\n",
        "    -> Better Debugging: Logs help track and diagnose issues without interrupting the program flow.\n",
        "\n",
        "    Level-Based Reporting: You can log messages at different severity levels (DEBUG, INFO, WARNING, ERROR, CRITICAL).\n",
        "\n",
        "    Persistent Records: Logs can be saved to files, making it easier to analyze past runs.\n",
        "\n",
        "    Customizable Output: Logging output can be formatted and directed to different destinations (console, file, etc.).     \n",
        "\n",
        "11. What is memory management in Python?\n",
        "    -> Memory management in Python involves allocating and freeing memory automatically to store objects during program execution. Python uses a private heap for memory and manages it with reference counting and a garbage collector to clean up unused objects.\n",
        "    This helps prevent memory leaks and ensures efficient use of system resources.\n",
        "\n",
        "12. What are the basic steps involved in exception handling in Python?\n",
        "    -> Try Block: Write the code that might raise an exception inside the try block.\n",
        "\n",
        "    Except Block: Handle specific exceptions using one or more except blocks.\n",
        "\n",
        "    Else Block (Optional): Execute code if no exception occurs.\n",
        "\n",
        "    Finally Block (Optional): Execute cleanup code that runs regardless of exceptions.    \n",
        "\n",
        "13. Why is memory management important in Python?\n",
        "    -> Memory management is crucial to ensure efficient use of system resources and prevent issues like memory leaks or crashes.\n",
        "    It helps Python programs run smoothly by automatically allocating and freeing memory as needed, improving performance and stability.       \n",
        "\n",
        "14. What is the role of try and except in exception handling?\n",
        "    -> The try block contains code that might raise an exception during execution.\n",
        "    The except block catches and handles those exceptions to prevent the program from crashing, allowing graceful error recovery.    \n",
        "\n",
        "15. How does Python's garbage collection system work?  \n",
        "    -> Python’s garbage collector primarily uses reference counting to track how many references point to an object. When an object’s reference count drops to zero, it’s immediately freed.\n",
        "    To handle cyclic references (objects referencing each other), Python uses a cyclic garbage collector that periodically detects and cleans these unreachable cycles.  "
      ],
      "metadata": {
        "id": "0ZX37f2f9sZ4"
      }
    },
    {
      "cell_type": "markdown",
      "source": [
        "16. What is the purpose of the else block in exception handling?\n",
        "    -> The else block runs only if no exception was raised in the try block.\n",
        "    It’s used to execute code that should run when the try block succeeds, keeping it separate from the try and except logic for clearer code.\n",
        "\n",
        "17. What are the common logging levels in Python?\n",
        "    -> Python’s logging module defines these standard levels to indicate the severity of events:\n",
        "\n",
        "    DEBUG: Detailed information for diagnosing problems.\n",
        "\n",
        "    INFO: General events confirming things are working.\n",
        "\n",
        "    WARNING: Indications of potential issues or unexpected situations.\n",
        "\n",
        "    ERROR: Serious problems causing parts of the program to fail.\n",
        "\n",
        "    CRITICAL: Severe errors causing program termination or major failures.\n",
        "\n",
        "18. What is the difference between os.fork() and multiprocessing in Python?\n",
        "    -> os.fork() creates a new child process by duplicating the current process at the OS level, mainly available on Unix-like systems. It’s low-level and requires manual management of process communication.\n",
        "    multiprocessing is a high-level Python module that abstracts process creation and management, works cross-platform, and provides easy-to-use tools for inter-process communication and synchronization.\n",
        "\n",
        "19. What is the importance of closing a file in Python?\n",
        "    -> Closing a file releases the system resources tied to it, like memory and file descriptors.\n",
        "    It ensures that all data is properly written and saved to disk, preventing data loss or corruption.\n",
        "    Not closing files can lead to resource leaks and limit the number of files your program can open simultaneously.     \n",
        "\n",
        "20. What is the difference between file.read() and file.readline() in Python?\n",
        "    -> file.read() reads the entire content of the file as a single string.\n",
        "    file.readline() reads the file one line at a time, returning the next line each time it’s called.\n",
        "    Use read() to get all data at once and readline() to process the file line by line.    \n",
        "\n",
        "21. What is the logging module in Python used for?\n",
        "    -> The logging module in Python is used to record messages that help track events during program execution.\n",
        "    It provides a flexible way to log information at different severity levels, aiding debugging and monitoring without using print statements.            \n",
        "\n",
        "22. What is the os module in Python used for in file handling?\n",
        "    -> The os module provides functions to interact with the operating system for tasks like creating, deleting, renaming, and moving files or directories.\n",
        "    It helps manage file paths, check file properties, and perform low-level file operations beyond simple reading and writing.    \n",
        "\n",
        "23. What are the challenges associated with memory management in Python?\n",
        "    -> Handling Circular References: Reference counting can’t clean up objects that reference each other, requiring a cyclic garbage collector.\n",
        "\n",
        "    Memory Leaks: Poorly managed references can prevent memory from being freed.\n",
        "\n",
        "    Overhead: Automatic memory management adds runtime overhead impacting performance.\n",
        "\n",
        "    Unpredictable Garbage Collection: Timing of cleanup can be non-deterministic, complicating resource management.    \n",
        "\n",
        "24. How do you raise an exception manually in Python?\n",
        "    -> You use the raise statement followed by an exception type to manually trigger an error.\n",
        "    Example: raise ValueError(\"Invalid input\") will stop execution and signal a ValueError.\n",
        "    This is useful to enforce constraints or signal unexpected conditions in your code.   \n",
        "\n",
        "25. Why is it important to use multithreading in certain applications?\n",
        "    -> Multithreading allows multiple tasks to run concurrently within the same program, improving responsiveness and resource utilization.\n",
        "    It’s especially useful for I/O-bound applications like web servers or GUIs, where threads can wait for input without blocking the entire program.\n",
        "    This leads to smoother performance and better user experience.    "
      ],
      "metadata": {
        "id": "KoiJd7b1AIF8"
      }
    },
    {
      "cell_type": "code",
      "execution_count": 1,
      "metadata": {
        "id": "nr2MY7qi9ZR8"
      },
      "outputs": [],
      "source": [
        "# 1.  How can you open a file for writing in Python and write a string to it?\n",
        "with open(\"file.txt\", \"w\") as f:\n",
        "    f.write(\"Hello, world!\")"
      ]
    },
    {
      "cell_type": "code",
      "source": [
        "# 2. Write a Python program to read the contents of a file and print each line.\n",
        "\n",
        "with open(\"file.txt\", \"r\") as file:\n",
        "    for line in file:\n",
        "        print(line, end='')\n"
      ],
      "metadata": {
        "colab": {
          "base_uri": "https://localhost:8080/"
        },
        "id": "QDRG8H8mCKVv",
        "outputId": "8628ba0a-7bf3-46eb-d543-444d7f0497b4"
      },
      "execution_count": 3,
      "outputs": [
        {
          "output_type": "stream",
          "name": "stdout",
          "text": [
            "Hello, world!"
          ]
        }
      ]
    },
    {
      "cell_type": "code",
      "source": [
        "# 3. How would you handle a case where the file doesn't exist while trying to open it for reading?\n",
        "try:\n",
        "    with open(\"filename.txt\", \"r\") as file:\n",
        "        content = file.read()\n",
        "except FileNotFoundError:\n",
        "    print(\"The file does not exist.\")"
      ],
      "metadata": {
        "colab": {
          "base_uri": "https://localhost:8080/"
        },
        "id": "FFfBP_MpCgku",
        "outputId": "f8c10f44-1a61-4b42-fc18-4cfaef11a703"
      },
      "execution_count": 5,
      "outputs": [
        {
          "output_type": "stream",
          "name": "stdout",
          "text": [
            "The file does not exist.\n"
          ]
        }
      ]
    },
    {
      "cell_type": "code",
      "source": [
        "# 4. Write a Python script that reads from one file and writes its content to another file.\n",
        "\n",
        "with open(\"source.txt\", \"w\") as f:\n",
        "    f.write(\"Flowers are beautiful !\")\n",
        "try:\n",
        "    with open(\"source.txt\", \"r\") as source_file:\n",
        "        content = source_file.read()\n",
        "\n",
        "    with open(\"destination.txt\", \"w\") as dest_file:\n",
        "        dest_file.write(content)\n",
        "\n",
        "    print(\"File copied successfully.\")\n",
        "\n",
        "except FileNotFoundError:\n",
        "    print(\"Source file not found.\")"
      ],
      "metadata": {
        "colab": {
          "base_uri": "https://localhost:8080/"
        },
        "id": "TvMYvGNMCz3R",
        "outputId": "230727ff-625c-44c8-bc57-aad655a12e4f"
      },
      "execution_count": 7,
      "outputs": [
        {
          "output_type": "stream",
          "name": "stdout",
          "text": [
            "File copied successfully.\n"
          ]
        }
      ]
    },
    {
      "cell_type": "code",
      "source": [
        "# 5. How would you catch and handle division by zero error in Python?\n",
        "try:\n",
        "    result = 10 / 0\n",
        "except ZeroDivisionError:\n",
        "    print(\"Error: Division by zero\")"
      ],
      "metadata": {
        "colab": {
          "base_uri": "https://localhost:8080/"
        },
        "id": "PIub5iKODM3w",
        "outputId": "9c810dca-7186-44c4-a837-5608fcbfdf31"
      },
      "execution_count": 8,
      "outputs": [
        {
          "output_type": "stream",
          "name": "stdout",
          "text": [
            "Error: Division by zero\n"
          ]
        }
      ]
    },
    {
      "cell_type": "code",
      "source": [
        "# 6.  Write a Python program that logs an error message to a log file when a division by zero exception occurs.\n",
        "import logging\n",
        "\n",
        "logging.basicConfig(filename='error.log', level=logging.ERROR,\n",
        "                    format='%(asctime)s - %(levelname)s - %(message)s')\n",
        "\n",
        "try:\n",
        "    result = 10 / 0\n",
        "except ZeroDivisionError as e:\n",
        "    logging.error(\"Division by zero error occurred: %s\", e)\n",
        "    print(\"An error occurred. Check error.log for details.\")\n"
      ],
      "metadata": {
        "colab": {
          "base_uri": "https://localhost:8080/"
        },
        "id": "YQOWSAqTDq0z",
        "outputId": "a31b1d8f-7d27-4586-8a55-b78156faead3"
      },
      "execution_count": 10,
      "outputs": [
        {
          "output_type": "stream",
          "name": "stderr",
          "text": [
            "ERROR:root:Division by zero error occurred: division by zero\n"
          ]
        },
        {
          "output_type": "stream",
          "name": "stdout",
          "text": [
            "An error occurred. Check error.log for details.\n"
          ]
        }
      ]
    },
    {
      "cell_type": "code",
      "source": [
        "# 7. How do you log information at different levels (INFO, ERROR, WARNING) in Python using the logging module?\n",
        "import logging\n",
        "\n",
        "logging.basicConfig(level=logging.DEBUG, format='%(levelname)s: %(message)s')\n",
        "\n",
        "logging.info(\"This is an info message.\")\n",
        "logging.warning(\"This is a warning message.\")\n",
        "logging.error(\"This is an error message.\")\n"
      ],
      "metadata": {
        "colab": {
          "base_uri": "https://localhost:8080/"
        },
        "id": "wtO0zs4ID52t",
        "outputId": "6be9766a-6e0c-479d-95ae-91e030dd4aa8"
      },
      "execution_count": 11,
      "outputs": [
        {
          "output_type": "stream",
          "name": "stderr",
          "text": [
            "WARNING:root:This is a warning message.\n",
            "ERROR:root:This is an error message.\n"
          ]
        }
      ]
    },
    {
      "cell_type": "code",
      "source": [
        "# 8. Write a program to handle a file opening error using exception handling.\n",
        "try:\n",
        "    with open(\"example.txt\", \"r\") as file:\n",
        "        content = file.read()\n",
        "        print(content)\n",
        "except FileNotFoundError:\n",
        "    print(\"Error: The file 'example.txt' was not found.\")\n",
        "except IOError:\n",
        "    print(\"Error: An I/O error occurred while trying to read the file.\")\n"
      ],
      "metadata": {
        "colab": {
          "base_uri": "https://localhost:8080/"
        },
        "id": "WJJBJHOYEvox",
        "outputId": "00950e19-3921-44f3-d1f4-dc4268341ce9"
      },
      "execution_count": 12,
      "outputs": [
        {
          "output_type": "stream",
          "name": "stdout",
          "text": [
            "Error: The file 'example.txt' was not found.\n"
          ]
        }
      ]
    },
    {
      "cell_type": "code",
      "source": [
        "# 9. How can you read a file line by line and store its content in a list in Python?\n",
        "with open(\"file.txt\", \"r\") as file:\n",
        "    lines = [line.rstrip('\\n') for line in file]"
      ],
      "metadata": {
        "id": "IBDCU9FgE-OP"
      },
      "execution_count": 14,
      "outputs": []
    },
    {
      "cell_type": "code",
      "source": [
        "#10. How can you append data to an existing file in Python?\n",
        "with open(\"file.txt\", \"a\") as file:\n",
        "    file.write(\"\\nthis is an Appended line.\")"
      ],
      "metadata": {
        "id": "QsbwbjuQFJo1"
      },
      "execution_count": 16,
      "outputs": []
    },
    {
      "cell_type": "code",
      "source": [
        "# 11. Write a Python program that uses a try-except block to handle an error when attempting to access a dictionary key that doesn't exist.\n",
        "my_dict = {\"name\": \"Ram\", \"age\": 22}\n",
        "\n",
        "try:\n",
        "    value = my_dict[\"address\"]\n",
        "except KeyError:\n",
        "    print(\"Error: The key 'address' does not exist in the dictionary.\")\n"
      ],
      "metadata": {
        "colab": {
          "base_uri": "https://localhost:8080/"
        },
        "id": "Ine49ggdFYmJ",
        "outputId": "a0a73a3f-8a32-4589-84e7-a660c618eaae"
      },
      "execution_count": 17,
      "outputs": [
        {
          "output_type": "stream",
          "name": "stdout",
          "text": [
            "Error: The key 'address' does not exist in the dictionary.\n"
          ]
        }
      ]
    },
    {
      "cell_type": "code",
      "source": [
        "# 12.  Write a program that demonstrates using multiple except blocks to handle different types of exceptions.\n",
        "try:\n",
        "    num1 = int(input(\"Enter a number: \"))\n",
        "    num2 = int(input(\"Enter another number: \"))\n",
        "    result = num1 / num2\n",
        "    print(\"Result:\", result)\n",
        "except ZeroDivisionError:\n",
        "    print(\"Error: Cannot divide by zero.\")\n",
        "except ValueError:\n",
        "    print(\"Error: Invalid input. Please enter numeric values.\")\n",
        "except Exception as e:\n",
        "    print(\"An unexpected error occurred:\", e)"
      ],
      "metadata": {
        "colab": {
          "base_uri": "https://localhost:8080/"
        },
        "id": "IafCGp9RF3an",
        "outputId": "7d38d4a4-1a0a-4939-b0e1-9ddc7934e790"
      },
      "execution_count": 20,
      "outputs": [
        {
          "output_type": "stream",
          "name": "stdout",
          "text": [
            "Enter a number: 10\n",
            "Enter another number: num\n",
            "Error: Invalid input. Please enter numeric values.\n"
          ]
        }
      ]
    },
    {
      "cell_type": "code",
      "source": [
        "# 13. How would you check if a file exists before attempting to read it in Python?\n",
        "import os\n",
        "\n",
        "if os.path.exists(\"fileml.txt\"):\n",
        "    with open(\"fileml.txt\", \"r\") as file:\n",
        "        content = file.read()\n",
        "else:\n",
        "    print(\"File does not exist.\")"
      ],
      "metadata": {
        "colab": {
          "base_uri": "https://localhost:8080/"
        },
        "id": "4i4F_UngGFcZ",
        "outputId": "10800d6d-aa76-4e0b-970c-edb698891161"
      },
      "execution_count": 23,
      "outputs": [
        {
          "output_type": "stream",
          "name": "stdout",
          "text": [
            "File does not exist.\n"
          ]
        }
      ]
    },
    {
      "cell_type": "code",
      "source": [
        "# 14. Write a program that uses the logging module to log both informational and error messages.\n",
        "\n",
        "import logging\n",
        "logging.basicConfig(level=logging.INFO,\n",
        "                    format='%(asctime)s - %(levelname)s - %(message)s')\n",
        "\n",
        "logging.info(\"This is an informational message.\")\n",
        "\n",
        "try:\n",
        "    result = 10 / 0\n",
        "except ZeroDivisionError as e:\n",
        "    logging.error(\"An error occurred: %s\", e)"
      ],
      "metadata": {
        "colab": {
          "base_uri": "https://localhost:8080/"
        },
        "id": "a6TT6giHGfOu",
        "outputId": "78c7931d-4530-46ed-b4f6-e59755dbb3b1"
      },
      "execution_count": 24,
      "outputs": [
        {
          "output_type": "stream",
          "name": "stderr",
          "text": [
            "ERROR:root:An error occurred: division by zero\n"
          ]
        }
      ]
    },
    {
      "cell_type": "code",
      "source": [
        "# 15. Write a Python program that prints the content of a file and handles the case when the file is empty.\n",
        "try:\n",
        "    with open(\"file.txt\", \"r\") as file:\n",
        "        content = file.read()\n",
        "        if content:\n",
        "            print(content)\n",
        "        else:\n",
        "            print(\"The file is empty.\")\n",
        "except FileNotFoundError:\n",
        "    print(\"The file does not exist.\")"
      ],
      "metadata": {
        "colab": {
          "base_uri": "https://localhost:8080/"
        },
        "id": "tHBfM5t2G2mK",
        "outputId": "251a3783-6f8a-451a-ae63-10b4fd077326"
      },
      "execution_count": 25,
      "outputs": [
        {
          "output_type": "stream",
          "name": "stdout",
          "text": [
            "Hello, world!\n",
            "this is an Appended line.\n",
            "this is an Appended line.\n"
          ]
        }
      ]
    },
    {
      "cell_type": "code",
      "source": [
        "pip install memory_profiler\n"
      ],
      "metadata": {
        "colab": {
          "base_uri": "https://localhost:8080/"
        },
        "id": "9qxtlv-sHw_1",
        "outputId": "088348a8-233b-4b40-8f93-c9a1d8860ba8"
      },
      "execution_count": 28,
      "outputs": [
        {
          "output_type": "stream",
          "name": "stdout",
          "text": [
            "Collecting memory_profiler\n",
            "  Downloading memory_profiler-0.61.0-py3-none-any.whl.metadata (20 kB)\n",
            "Requirement already satisfied: psutil in /usr/local/lib/python3.11/dist-packages (from memory_profiler) (5.9.5)\n",
            "Downloading memory_profiler-0.61.0-py3-none-any.whl (31 kB)\n",
            "Installing collected packages: memory_profiler\n",
            "Successfully installed memory_profiler-0.61.0\n"
          ]
        }
      ]
    },
    {
      "cell_type": "code",
      "source": [
        "# 16. Demonstrate how to use memory profiling to check the memory usage of a small program.\n",
        "\n",
        "from memory_profiler import profile\n",
        "\n",
        "@profile\n",
        "def my_function():\n",
        "    a = [i for i in range(100000)]  # large list to consume memory\n",
        "    b = [i*i for i in range(100000)]\n",
        "    return a, b\n",
        "\n",
        "if __name__ == \"__main__\":\n",
        "    my_function()\n"
      ],
      "metadata": {
        "colab": {
          "base_uri": "https://localhost:8080/"
        },
        "id": "Z0u_xp9sHHjp",
        "outputId": "1c9fb39b-a170-4796-86cf-1455171fc90d"
      },
      "execution_count": 29,
      "outputs": [
        {
          "output_type": "stream",
          "name": "stderr",
          "text": [
            "\n",
            "PYDEV DEBUGGER WARNING:\n",
            "sys.settrace() should not be used when the debugger is being used.\n",
            "This may cause the debugger to stop working correctly.\n",
            "If this is needed, please check: \n",
            "http://pydev.blogspot.com/2007/06/why-cant-pydev-debugger-work-with.html\n",
            "to see how to restore the debug tracing back correctly.\n",
            "Call Location:\n",
            "  File \"/usr/local/lib/python3.11/dist-packages/memory_profiler.py\", line 847, in enable\n",
            "    sys.settrace(self.trace_memory_usage)\n",
            "\n",
            "\n",
            "PYDEV DEBUGGER WARNING:\n",
            "sys.settrace() should not be used when the debugger is being used.\n",
            "This may cause the debugger to stop working correctly.\n",
            "If this is needed, please check: \n",
            "http://pydev.blogspot.com/2007/06/why-cant-pydev-debugger-work-with.html\n",
            "to see how to restore the debug tracing back correctly.\n",
            "Call Location:\n",
            "  File \"/usr/local/lib/python3.11/dist-packages/memory_profiler.py\", line 850, in disable\n",
            "    sys.settrace(self._original_trace_function)\n",
            "\n"
          ]
        },
        {
          "output_type": "stream",
          "name": "stdout",
          "text": [
            "ERROR: Could not find file <ipython-input-29-2624c8ed8d0c>\n",
            "NOTE: %mprun can only be used on functions defined in physical files, and not in the IPython environment.\n"
          ]
        }
      ]
    },
    {
      "cell_type": "code",
      "source": [
        "# 17.  Write a Python program to create and write a list of numbers to a file, one number per line.\n",
        "numbers = [1, 2, 3, 4, 5]\n",
        "\n",
        "with open(\"numbers.txt\", \"w\") as file:\n",
        "    for number in numbers:\n",
        "        file.write(str(number) + \"\\n\")\n",
        "\n",
        "with open(\"numbers.txt\", \"r\") as file:\n",
        "        content = file.read()\n",
        "        if content:\n",
        "            print(content)"
      ],
      "metadata": {
        "colab": {
          "base_uri": "https://localhost:8080/"
        },
        "id": "qq7tOApTH5wp",
        "outputId": "6d7be588-bba4-41c9-f517-aaba62424b0b"
      },
      "execution_count": 32,
      "outputs": [
        {
          "output_type": "stream",
          "name": "stdout",
          "text": [
            "1\n",
            "2\n",
            "3\n",
            "4\n",
            "5\n",
            "\n"
          ]
        }
      ]
    },
    {
      "cell_type": "code",
      "source": [
        "# 18.  How would you implement a basic logging setup that logs to a file with rotation after 1MB?\n",
        "import logging\n",
        "from logging.handlers import RotatingFileHandler\n",
        "\n",
        "logger = logging.getLogger(\"MyLogger\")\n",
        "logger.setLevel(logging.INFO)\n",
        "\n",
        "handler = RotatingFileHandler(\"app.log\", maxBytes=1_000_000, backupCount=3)\n",
        "formatter = logging.Formatter('%(asctime)s - %(levelname)s - %(message)s')\n",
        "handler.setFormatter(formatter)\n",
        "\n",
        "logger.addHandler(handler)\n",
        "\n",
        "logger.info(\"This is an info message.\")\n",
        "logger.error(\"This is an error message.\")"
      ],
      "metadata": {
        "colab": {
          "base_uri": "https://localhost:8080/"
        },
        "id": "k0CMK9SZIJ3S",
        "outputId": "ba4dd9f5-1be1-4724-a546-5c724cf18cdf"
      },
      "execution_count": 33,
      "outputs": [
        {
          "output_type": "stream",
          "name": "stderr",
          "text": [
            "INFO:MyLogger:This is an info message.\n",
            "ERROR:MyLogger:This is an error message.\n"
          ]
        }
      ]
    },
    {
      "cell_type": "code",
      "source": [
        "# 19. Write a program that handles both IndexError and KeyError using a try-except block.\n",
        "my_list = [1, 2, 3]\n",
        "my_dict = {\"a\": 10, \"b\": 20}\n",
        "\n",
        "try:\n",
        "    print(my_list[5])\n",
        "    print(my_dict[\"c\"])\n",
        "except IndexError:\n",
        "    print(\"Error: List index out of range.\")\n",
        "except KeyError:\n",
        "    print(\"Error: Key not found in dictionary.\")"
      ],
      "metadata": {
        "colab": {
          "base_uri": "https://localhost:8080/"
        },
        "id": "JCPF_sa5Ip3L",
        "outputId": "5f1085dc-f5a5-464a-e5e4-b28424b36863"
      },
      "execution_count": 34,
      "outputs": [
        {
          "output_type": "stream",
          "name": "stdout",
          "text": [
            "Error: List index out of range.\n"
          ]
        }
      ]
    },
    {
      "cell_type": "code",
      "source": [
        "# 20. How would you open a file and read its contents using a context manager in Python?\n",
        "with open(\"file.txt\", \"r\") as file:\n",
        "    content = file.read()\n",
        "    print(content)"
      ],
      "metadata": {
        "colab": {
          "base_uri": "https://localhost:8080/"
        },
        "id": "WEx8kvj8I23m",
        "outputId": "036aecda-1745-44b0-9914-c2fa79c4ef99"
      },
      "execution_count": 36,
      "outputs": [
        {
          "output_type": "stream",
          "name": "stdout",
          "text": [
            "Hello, world!\n",
            "this is an Appended line.\n",
            "this is an Appended line.\n"
          ]
        }
      ]
    },
    {
      "cell_type": "code",
      "source": [
        "# 21. Write a Python program that reads a file and prints the number of occurrences of a specific word.\n",
        "word_to_count = \"python\"\n",
        "count = 0\n",
        "\n",
        "try:\n",
        "    with open(\"file.txt\", \"r\") as file:\n",
        "        for line in file:\n",
        "            words = line.lower().split()\n",
        "            count += words.count(word_to_count.lower())\n",
        "    print(f\"The word '{word_to_count}' occurred {count} times.\")\n",
        "except FileNotFoundError:\n",
        "    print(\"The file does not exist.\")"
      ],
      "metadata": {
        "colab": {
          "base_uri": "https://localhost:8080/"
        },
        "id": "fia8DwCxJKBo",
        "outputId": "ecf66058-7ab3-40e7-8556-31932dfb7e68"
      },
      "execution_count": 37,
      "outputs": [
        {
          "output_type": "stream",
          "name": "stdout",
          "text": [
            "The word 'python' occurred 0 times.\n"
          ]
        }
      ]
    },
    {
      "cell_type": "code",
      "source": [
        "with open(\"newfile.txt\", \"w\") as file:\n",
        "    pass  # Creates an empty file"
      ],
      "metadata": {
        "id": "WpUylkQUKoFV"
      },
      "execution_count": 42,
      "outputs": []
    },
    {
      "cell_type": "code",
      "source": [
        "# 22. How can you check if a file is empty before attempting to read its contents?\n",
        "import os\n",
        "\n",
        "filename = \"newfile.txt\"\n",
        "if os.path.getsize(filename) > 0:\n",
        "    with open(filename, \"r\") as file:\n",
        "        content = file.read()\n",
        "        print(content)\n",
        "else:\n",
        "    print(\"The file is empty.\")"
      ],
      "metadata": {
        "colab": {
          "base_uri": "https://localhost:8080/"
        },
        "id": "aMr3xbJ2JgbO",
        "outputId": "3c95a47f-52a4-4284-e888-361155381a07"
      },
      "execution_count": 43,
      "outputs": [
        {
          "output_type": "stream",
          "name": "stdout",
          "text": [
            "The file is empty.\n"
          ]
        }
      ]
    },
    {
      "cell_type": "code",
      "source": [
        "# 23.  Write a Python program that writes to a log file when an error occurs during file handling..\n",
        "import logging\n",
        "\n",
        "logging.basicConfig(filename='file_errors.log', level=logging.ERROR,\n",
        "                    format='%(asctime)s - %(levelname)s - %(message)s')\n",
        "\n",
        "try:\n",
        "    with open(\"example.txt\", \"r\") as file:\n",
        "        content = file.read()\n",
        "        print(content)\n",
        "except Exception as e:\n",
        "    logging.error(\"Error occurred while handling the file: %s\", e)\n",
        "    print(\"An error occurred. Check 'file_errors.log' for details.\")"
      ],
      "metadata": {
        "colab": {
          "base_uri": "https://localhost:8080/"
        },
        "id": "ObHwAHj8JzkD",
        "outputId": "5667ac77-8ed4-42f7-9b63-daf0727c5afe"
      },
      "execution_count": 40,
      "outputs": [
        {
          "output_type": "stream",
          "name": "stderr",
          "text": [
            "ERROR:root:Error occurred while handling the file: [Errno 2] No such file or directory: 'example.txt'\n"
          ]
        },
        {
          "output_type": "stream",
          "name": "stdout",
          "text": [
            "An error occurred. Check 'file_errors.log' for details.\n"
          ]
        }
      ]
    },
    {
      "cell_type": "code",
      "source": [],
      "metadata": {
        "id": "I8NAA2w4KStP"
      },
      "execution_count": null,
      "outputs": []
    }
  ]
}