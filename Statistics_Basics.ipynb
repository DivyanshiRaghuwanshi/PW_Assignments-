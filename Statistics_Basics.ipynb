{
  "nbformat": 4,
  "nbformat_minor": 0,
  "metadata": {
    "colab": {
      "provenance": []
    },
    "kernelspec": {
      "name": "python3",
      "display_name": "Python 3"
    },
    "language_info": {
      "name": "python"
    }
  },
  "cells": [
    {
      "cell_type": "markdown",
      "source": [
        "1. What is statistics, and why is it important?\n",
        "    -> Statistics is the science of collecting, organizing, analyzing, and interpreting data.\n",
        "    It helps in making sense of numerical information by summarizing and presenting it in meaningful ways.\n",
        "    Statistics is used to find patterns, trends, and relationships in data for better understanding and decision-making.\n",
        "    Statistics helps in making informed decisions in everyday life, business, and research.\n",
        "    It is crucial for testing hypotheses, predicting future outcomes, and solving real-world problems.\n",
        "    Governments, companies, and researchers rely on statistics to guide policies and strategies based on data.\n",
        "\n",
        "2. What are the two main types of statistics?\n",
        "    -> Descriptive Statistics\n",
        "    Descriptive statistics summarize and organize data using measures like mean, median, mode, and graphs.\n",
        "    They help to describe the main features of a dataset in a simple and clear way.\n",
        "\n",
        "    Inferential Statistics\n",
        "    Inferential statistics use a sample of data to make predictions or draw conclusions about a larger population.\n",
        "    It involves probability, estimation, and hypothesis testing to support decision-making.\n",
        "\n",
        "3. What are descriptive statistics?\n",
        "    -> Descriptive statistics are methods used to summarize and describe the main features of a dataset.\n",
        "    They include measures like mean, median, mode, range, and standard deviation.\n",
        "    These statistics help to present raw data in a simple, understandable form using tables, charts, and graphs.\n",
        "\n",
        "4. What is inferential statistics ?\n",
        "    -> Inferential statistics involve making predictions, generalizations, or decisions about a population based on a sample.\n",
        "    It uses tools like hypothesis testing, confidence intervals, and regression analysis.\n",
        "    This type of statistics helps us draw conclusions and make informed guesses when it's not practical to study an entire population.\n",
        "\n",
        "5. What is sampling in statistics?\n",
        "    -> Sampling is the process of selecting a small group (sample) from a larger group (population) to study and analyze.\n",
        "    It allows researchers to draw conclusions about the entire population without examining every member.\n",
        "    Good sampling ensures that the sample accurately represents the population, reducing bias and saving time and resources.\n",
        "\n",
        "6. What are the different types of sampling methods?\n",
        "    -> Random Sampling: Every member of the population has an equal chance of being selected. It reduces bias and gives a fair representation of the population.  \n",
        "    Systematic Sampling: Every nth member is selected from a list after choosing a random starting point. It's simple and useful when data is organized in a sequence.  \n",
        "    Stratified Sampling: The population is divided into groups (strata), and random samples are taken from each group. It ensures representation from all key subgroups.\n",
        "    Cluster Sampling: The population is divided into clusters, some of which are randomly selected for study. It's cost-effective for large, spread-out populations.\n",
        "\n",
        "7. What is the difference between random and non-random sampling?\n",
        "    -> Random Sampling\n",
        "    Every individual in the population has an equal chance of being selected.\n",
        "    It reduces bias and results in a more representative sample.\n",
        "    Examples: simple random, stratified, and cluster sampling.\n",
        "\n",
        "    Non-Random Sampling\n",
        "    Selection is based on convenience, judgment, or other non-random criteria.\n",
        "    It may introduce bias and is less likely to represent the entire population accurately.\n",
        "    Examples: convenience sampling, judgmental sampling.\n",
        "\n",
        "8. Define and give examples of qualitative and quantitative data.\n",
        "    -> Qualitative Data: Qualitative data describes qualities or characteristics and is non-numerical.\n",
        "\n",
        "    Examples: Eye color (brown, blue), types of fruits (apple, banana), customer feedback (happy, unsatisfied).\n",
        "\n",
        "    Quantitative Data: Quantitative data is numerical and can be measured or counted.\n",
        "\n",
        "    Examples: Age (21 years), number of students (30), height (160 cm), marks (85 out of 100).\n",
        "\n",
        "9. What are the different types of data in statistics?\n",
        "    -> In statistics, data is broadly classified into two types: qualitative (categorical) and quantitative (numerical). Qualitative data represents non-numerical information and is used to describe categories or qualities, such as gender, eye color, or types of fruits. Quantitative data consists of numerical values that can be measured or counted, like age, weight, or number of books. Quantitative data is further divided into discrete data, which includes countable items (e.g., number of students), and continuous data, which involves measurements that can take any value within a range (e.g., height or temperature). Understanding these types helps in selecting the right statistical tools for data analysis.\n",
        "\n",
        "10.  Explain nominal, ordinal, interval, and ratio levels of measurement.\n",
        "    -> Nominal Level\n",
        "    Nominal data are categories that have no natural order or ranking.\n",
        "    Examples: Gender (male, female), colors (red, blue, green), or types of fruits.\n",
        "\n",
        "    Ordinal Level\n",
        "    Ordinal data are categories with a meaningful order, but the differences between values are not measurable.\n",
        "    Examples: Ranks (1st, 2nd, 3rd), rating scales (poor, average, good).\n",
        "\n",
        "    Interval Level\n",
        "    Interval data have ordered values with equal spacing between them, but no true zero point.\n",
        "    Examples: Temperature in Celsius or Fahrenheit, dates on a calendar.\n",
        "\n",
        "    Ratio Level\n",
        "    Ratio data have all the properties of interval data, and they include a true zero point, allowing for meaningful ratios.\n",
        "    Examples: Height, weight, age, income.        \n",
        "\n",
        "11. What is the measure of central tendency?\n",
        "    -> A measure of central tendency is a statistical value that represents the center or average of a dataset.\n",
        "    It helps to summarize a large set of data with a single value that indicates the typical or most common data point.\n",
        "    The three main measures of central tendency are mean (average), median (middle value), and mode (most frequent value).\n",
        "    These measures are used to understand the overall pattern and make comparisons within data.    \n",
        "\n",
        "12. Define mean, median, and mode.\n",
        "    -> Mean\n",
        "    The mean is the average of a set of numbers, found by adding all the values and dividing by the total number of values.\n",
        "    Example: For 5, 10, and 15 → Mean = (5 + 10 + 15) ÷ 3 = 10.\n",
        "\n",
        "    Median\n",
        "    The median is the middle value in an ordered dataset. If there is an even number of values, the median is the average of the two middle numbers.\n",
        "    Example: For 3, 6, 9 → Median = 6. For 2, 4, 6, 8 → Median = (4 + 6) ÷ 2 = 5.\n",
        "\n",
        "    Mode\n",
        "    The mode is the value that occurs most frequently in a dataset. A dataset can have one mode, more than one mode, or no mode at all.\n",
        "    Example: For 2, 3, 3, 5 → Mode = 3. For 1, 2, 2, 3, 3 → Modes = 2 and 3.    \n",
        "\n",
        "13. What is the significance of the measure of central tendency?\n",
        "    -> The measure of central tendency is important because it gives a single value that represents the center or typical value in a dataset.\n",
        "    It helps simplify complex data and allows for quick comparisons between different sets of data.\n",
        "    These measures (mean, median, and mode) are widely used in fields like economics, education, business, and social sciences to make informed decisions and analyze trends.\n",
        "    They also help identify patterns, spot outliers, and understand the overall distribution of data.    \n",
        "\n",
        "14. What is variance, and how is it calculated?    \n",
        "    -> Variance measures how far each data point in a set lies from the mean, indicating the spread or dispersion of the data.\n",
        "    To calculate it, subtract the mean from each value to get the deviations, square these deviations, then find their average.\n",
        "\n",
        "    Population variance (σ²): Σ (x − μ)² ⁄ N\n",
        "\n",
        "    Sample variance (s²): Σ (x − x̄)² ⁄ (n − 1)\n",
        "    A larger variance means data points are more widely scattered around the mean; a smaller variance means they’re more tightly clustered.\n",
        "\n",
        "15. What is standard deviation, and why is it important?\n",
        "    -> Standard deviation is a measure of how much the values in a dataset deviate from the mean. It is the square root of the variance, which brings the units back to the same as the original data.\n",
        "    A low standard deviation means the data points are close to the mean, while a high standard deviation indicates more spread or variability.\n",
        "\n",
        "    Importance:\n",
        "    Standard deviation is important because it provides insight into the consistency or variability of data. It helps compare different datasets, understand risk in finance, and interpret data reliability in experiments and surveys.    \n",
        "\n",
        "16.  Define and explain the term range in statistics.\n",
        "    -> The range is a measure of dispersion that shows the difference between the highest and lowest values in a dataset.\n",
        "    It is calculated using the formula:\n",
        "    Range = Highest value − Lowest value\n",
        "    For example, in the dataset {4, 7, 10, 15}, the range is 15 − 4 = 11.\n",
        "    The range gives a quick sense of how spread out the values are, but it is sensitive to outliers since it only considers the extreme values.   \n",
        "\n",
        "17. What is the difference between variance and standard deviation?\n",
        "    -> Variance and standard deviation both measure the spread or dispersion of data around the mean, but they differ in how they express that spread.\n",
        "\n",
        "    Variance is the average of the squared differences from the mean. It shows how data points vary but is expressed in squared units, which can be hard to interpret.\n",
        "\n",
        "    Standard Deviation is the square root of the variance. It is in the same units as the original data, making it more practical and easier to understand.     \n",
        "\n",
        "18. What is skewness in a dataset?\n",
        "    -> Skewness is a measure of the asymmetry or distortion in the distribution of data around the mean.\n",
        "\n",
        "    If the data is symmetrical, skewness is zero.\n",
        "\n",
        "    If the data is positively skewed (right-skewed), most values are concentrated on the left, and the tail extends to the right.\n",
        "\n",
        "    If the data is negatively skewed (left-skewed), most values are on the right, and the tail extends to the left.\n",
        "    Skewness helps in understanding the shape of the data distribution and whether the mean is influenced by extreme values.    \n",
        "\n",
        "19. What does it mean if a dataset is positively or negatively skewed ?\n",
        "    -> Positively Skewed Dataset\n",
        "    If a dataset is positively skewed, it means the tail on the right side of the distribution is longer. Most of the data values are clustered on the left, but a few larger values pull the mean to the right.\n",
        "    In this case: Mean > Median > Mode\n",
        "    Example: Income distribution where a few people earn much more than the rest.\n",
        "\n",
        "    Negatively Skewed Dataset\n",
        "    If a dataset is negatively skewed, it means the tail on the left side is longer. Most data values are clustered on the right, but a few smaller values pull the mean to the left.\n",
        "    In this case: Mean < Median < Mode\n",
        "    Example: Age at retirement, where most people retire at a similar age but a few retire much earlier.    \n",
        "\n",
        "20.  Define and explain kurtosis.\n",
        "    -> Kurtosis is a statistical measure that describes the shape and sharpness of the peak of a data distribution compared to a normal distribution. It helps identify whether the data has heavy or light tails.\n",
        "\n",
        "    There are three types of kurtosis:\n",
        "    Mesokurtic: Normal distribution with moderate peak (kurtosis = 0).\n",
        "    Leptokurtic: High peak and heavy tails; data has more outliers (kurtosis > 0).\n",
        "    Platykurtic: Flat peak and light tails; fewer outliers (kurtosis < 0).\n",
        "    Kurtosis is useful for understanding the risk of extreme values or outliers in a dataset.    \n",
        "\n",
        "21. What is the purpose of covariance?\n",
        "    -> Covariance measures how two variables change together. It helps determine whether an increase in one variable corresponds to an increase or decrease in another.\n",
        "\n",
        "    A positive covariance means both variables tend to increase or decrease together.\n",
        "\n",
        "    A negative covariance means one variable increases while the other decreases.\n",
        "\n",
        "    The purpose of covariance is to identify the direction of the relationship between variables, which is especially useful in finance, statistics, and data analysis to understand how variables move in relation to each other.\n",
        "\n",
        "22. What does correlation measure in statistics?\n",
        "    -> Correlation measures the strength and direction of the linear relationship between two variables. It tells us how closely the changes in one variable are associated with changes in another.\n",
        "    The most common measure is the Pearson correlation coefficient (r), which ranges from -1 to +1:\n",
        "    +1 indicates a perfect positive correlation (both increase together),\n",
        "    -1 indicates a perfect negative correlation (one increases while the other decreases),\n",
        "    0 means no linear relationship.\n",
        "    Correlation helps in understanding how variables are related and is widely used in research, economics, and data science.    \n",
        "\n",
        "23. What is the difference between covariance and correlation?\n",
        "    -> Covariance and correlation both measure the relationship between two variables, but they differ in scale and interpretation:\n",
        "\n",
        "    Covariance indicates the direction of the relationship (positive or negative), but its value depends on the units of the variables, making it hard to compare across datasets.\n",
        "\n",
        "    Correlation not only shows the direction but also the strength of the relationship. It is a standardized measure and always ranges between -1 and +1, making it easier to interpret and compare.    \n",
        "\n",
        "24. What are some real-world applications of statistics?\n",
        "    -> Healthcare: Statistics are used to analyze patient data, test the effectiveness of new drugs, track disease outbreaks, and improve treatment plans based on evidence.\n",
        "\n",
        "    Business and Marketing: Companies use statistics to study market trends, customer preferences, and sales performance. It helps in making data-driven decisions and forecasting demand.\n",
        "\n",
        "    Education: Schools and universities apply statistics to evaluate student performance, track progress, and improve teaching methods through data analysis.\n",
        "\n",
        "    Government and Public Policy: Governments rely on statistics for planning budgets, conducting censuses, setting policies, and analyzing public health, employment, and crime rates.    "
      ],
      "metadata": {
        "id": "ZnJ4v4LcgJZK"
      }
    },
    {
      "cell_type": "code",
      "execution_count": 2,
      "metadata": {
        "colab": {
          "base_uri": "https://localhost:8080/"
        },
        "id": "DVkbxQcTf4hT",
        "outputId": "34ab7c41-d03a-4fdb-97c7-85c6908475dc"
      },
      "outputs": [
        {
          "output_type": "stream",
          "name": "stdout",
          "text": [
            "Mean: 11.666666666666666\n",
            "Median: 10.0\n",
            "Mode: 10\n"
          ]
        }
      ],
      "source": [
        "# 1. How do you calculate the mean, median, and mode of a dataset?\n",
        "\n",
        "import statistics\n",
        "\n",
        "# Sample dataset\n",
        "data = [5, 10, 15, 10, 20, 10]\n",
        "\n",
        "mean = statistics.mean(data)\n",
        "\n",
        "median = statistics.median(data)\n",
        "\n",
        "mode = statistics.mode(data)\n",
        "\n",
        "print(\"Mean:\", mean)\n",
        "print(\"Median:\", median)\n",
        "print(\"Mode:\", mode)"
      ]
    },
    {
      "cell_type": "code",
      "source": [
        "# 2. Write a Python program to compute the variance and standard deviation of a datasets.\n",
        "\n",
        "import statistics\n",
        "\n",
        "data = [10, 12, 23, 23, 16, 23, 21, 16]\n",
        "variance = statistics.variance(data)\n",
        "\n",
        "std_deviation = statistics.stdev(data)\n",
        "\n",
        "print(\"Variance:\", variance)\n",
        "print(\"Standard Deviation:\", std_deviation)"
      ],
      "metadata": {
        "colab": {
          "base_uri": "https://localhost:8080/"
        },
        "id": "ikohbxRaoVNg",
        "outputId": "b90098d5-5649-4f08-95d4-88ec31c8c5e3"
      },
      "execution_count": 3,
      "outputs": [
        {
          "output_type": "stream",
          "name": "stdout",
          "text": [
            "Variance: 27.428571428571427\n",
            "Standard Deviation: 5.237229365663818\n"
          ]
        }
      ]
    },
    {
      "cell_type": "markdown",
      "source": [
        "3. Create a dataset and classify it into nominal, ordinal, interval, and ratio types.\n",
        "    -> Nominal Data\n",
        "    Column: Name\n",
        "    Explanation: Labels without any numerical meaning or order.\n",
        "    Values: Alice, Bob, Carol, David\n",
        "\n",
        "    Ordinal Data\n",
        "    Column: Education Level\n",
        "    Explanation: Categories with a meaningful order but no fixed spacing between them.\n",
        "    Values (ordered): High School < Bachelor's < Master's < PhD\n",
        "\n",
        "    Interval Data\n",
        "    Column: Temperature (°C)\n",
        "    Explanation: Numeric values with equal intervals but no true zero point (0°C ≠ absence of temperature).\n",
        "    Values: 19, 22, 25, 28\n",
        "\n",
        "    Ratio Data\n",
        "    Column: Age (Years)\n",
        "    Explanation: Numeric values with equal intervals and a true zero point (0 means no age).\n",
        "    Values: 20, 25, 30, 35"
      ],
      "metadata": {
        "id": "jwB3kuatpY8e"
      }
    },
    {
      "cell_type": "code",
      "source": [
        " # 4. Implement sampling techniques like random sampling and stratified sampling.\n",
        "\n",
        "import pandas as pd\n",
        "\n",
        "data = pd.DataFrame({\n",
        "    'Name': ['Alice', 'Bob', 'Carol', 'David', 'Eva', 'Frank', 'Grace', 'Hannah'],\n",
        "    'Age': [25, 30, 22, 35, 28, 24, 27, 31],\n",
        "    'Gender': ['F', 'M', 'F', 'M', 'F', 'M', 'F', 'F']\n",
        "})\n",
        "\n",
        "random_sample = data.sample(n=4, random_state=42)\n",
        "\n",
        "print(\"Random Sample:\\n\", random_sample)"
      ],
      "metadata": {
        "colab": {
          "base_uri": "https://localhost:8080/"
        },
        "id": "31UfAuIwo2yS",
        "outputId": "3045839a-0810-4f97-d39b-e19ded894f3d"
      },
      "execution_count": 4,
      "outputs": [
        {
          "output_type": "stream",
          "name": "stdout",
          "text": [
            "Random Sample:\n",
            "      Name  Age Gender\n",
            "1     Bob   30      M\n",
            "5   Frank   24      M\n",
            "0   Alice   25      F\n",
            "7  Hannah   31      F\n"
          ]
        }
      ]
    },
    {
      "cell_type": "code",
      "source": [
        "# 6. Create a dataset and plot its histogram to visualize skewness5\n",
        "\n",
        "import numpy as np\n",
        "import pandas as pd\n",
        "import matplotlib.pyplot as plt\n",
        "from scipy.stats import skew\n",
        "\n",
        "# 1. Create a positively skewed dataset (Exponential distribution)\n",
        "np.random.seed(0)\n",
        "data = np.random.exponential(scale=1.0, size=1000)\n",
        "\n",
        "# 2. Convert to DataFrame (optional but useful)\n",
        "df = pd.DataFrame({'Values': data})\n",
        "\n",
        "# 3. Calculate Skewness\n",
        "data_skewness = skew(df['Values'])\n",
        "\n",
        "# 4. Print skewness value\n",
        "print(\"Skewness of the dataset:\", data_skewness)\n",
        "\n",
        "# 5. Plot Histogram\n",
        "plt.figure(figsize=(8, 5))\n",
        "plt.hist(df['Values'], bins=30, color='skyblue', edgecolor='black')\n",
        "plt.title('Histogram of Positively Skewed Data')\n",
        "plt.xlabel('Value')\n",
        "plt.ylabel('Frequency')\n",
        "plt.grid(True)\n",
        "plt.show()\n",
        "\n",
        "# 6. Interpretation\n",
        "if data_skewness > 0:\n",
        "    print(\"The dataset is positively skewed (right-skewed).\")\n",
        "elif data_skewness < 0:\n",
        "    print(\"The dataset is negatively skewed (left-skewed).\")\n",
        "else:\n",
        "    print(\"The dataset is symmetric (no skewness).\")"
      ],
      "metadata": {
        "colab": {
          "base_uri": "https://localhost:8080/",
          "height": 522
        },
        "id": "7HOWusUoqAj-",
        "outputId": "f0f8fd81-0752-42d8-b6dd-31f98b6517d7"
      },
      "execution_count": 5,
      "outputs": [
        {
          "output_type": "stream",
          "name": "stdout",
          "text": [
            "Skewness of the dataset: 2.0526452829685935\n"
          ]
        },
        {
          "output_type": "display_data",
          "data": {
            "text/plain": [
              "<Figure size 800x500 with 1 Axes>"
            ],
            "image/png": "[encoded data removed]"
          },
          "metadata": {}
        },
        {
          "output_type": "stream",
          "name": "stdout",
          "text": [
            "The dataset is positively skewed (right-skewed).\n"
          ]
        }
      ]
    },
    {
      "cell_type": "code",
      "source": [
        "# 7.  Calculate skewness and kurtosis of a dataset using Python libraries.\n",
        "\n",
        "import numpy as np\n",
        "import pandas as pd\n",
        "from scipy.stats import skew, kurtosis\n",
        "\n",
        "# Create a sample dataset (positively skewed)\n",
        "np.random.seed(42)\n",
        "data = np.random.exponential(scale=2.0, size=1000)\n",
        "\n",
        "# Convert to a DataFrame\n",
        "df = pd.DataFrame({'Values': data})\n",
        "\n",
        "# Calculate Skewness\n",
        "skewness = skew(df['Values'])\n",
        "\n",
        "# Calculate Kurtosis\n",
        "kurt = kurtosis(df['Values'])  # This gives excess kurtosis (normal = 0)\n",
        "\n",
        "# Print the results\n",
        "print(\"Skewness:\", skewness)\n",
        "print(\"Kurtosis:\", kurt)\n",
        "\n",
        "# Optional interpretation\n",
        "if skewness > 0:\n",
        "    print(\"The data is positively skewed.\")\n",
        "elif skewness < 0:\n",
        "    print(\"The data is negatively skewed.\")\n",
        "else:\n",
        "    print(\"The data is symmetrical.\")\n",
        "\n",
        "if kurt > 0:\n",
        "    print(\"The data is leptokurtic (peaked with heavy tails).\")\n",
        "elif kurt < 0:\n",
        "    print(\"The data is platykurtic (flat with light tails).\")\n",
        "else:\n",
        "    print(\"The data is mesokurtic (normal kurtosis).\")"
      ],
      "metadata": {
        "colab": {
          "base_uri": "https://localhost:8080/"
        },
        "id": "pEgcJ9s0qdzp",
        "outputId": "c2851048-ac14-4af5-a3a9-9290e81d1ae9"
      },
      "execution_count": 6,
      "outputs": [
        {
          "output_type": "stream",
          "name": "stdout",
          "text": [
            "Skewness: 1.865034222864843\n",
            "Kurtosis: 5.2178275282033955\n",
            "The data is positively skewed.\n",
            "The data is leptokurtic (peaked with heavy tails).\n"
          ]
        }
      ]
    },
    {
      "cell_type": "code",
      "source": [
        "# 8. Generate a dataset and demonstrate positive and negative skewness.\n",
        "\n",
        "import numpy as np\n",
        "import matplotlib.pyplot as plt\n",
        "import seaborn as sns\n",
        "from scipy.stats import skew\n",
        "\n",
        "# 1. Generate datasets\n",
        "np.random.seed(0)\n",
        "\n",
        "# Positively skewed data (e.g., exponential distribution)\n",
        "positive_skew_data = np.random.exponential(scale=2.0, size=1000)\n",
        "\n",
        "# Negatively skewed data (by inverting positive skew data)\n",
        "negative_skew_data = -np.random.exponential(scale=2.0, size=1000)\n",
        "\n",
        "# 2. Calculate skewness\n",
        "pos_skewness = skew(positive_skew_data)\n",
        "neg_skewness = skew(negative_skew_data)\n",
        "\n",
        "# 3. Plot histograms\n",
        "plt.figure(figsize=(14, 5))\n",
        "\n",
        "# Positive skew\n",
        "plt.subplot(1, 2, 1)\n",
        "sns.histplot(positive_skew_data, bins=30, kde=True, color='skyblue')\n",
        "plt.title(f'Positively Skewed Data\\nSkewness = {pos_skewness:.2f}')\n",
        "plt.xlabel('Value')\n",
        "plt.ylabel('Frequency')\n",
        "\n",
        "# Negative skew\n",
        "plt.subplot(1, 2, 2)\n",
        "sns.histplot(negative_skew_data, bins=30, kde=True, color='salmon')\n",
        "plt.title(f'Negatively Skewed Data\\nSkewness = {neg_skewness:.2f}')\n",
        "plt.xlabel('Value')\n",
        "plt.ylabel('Frequency')\n",
        "\n",
        "plt.tight_layout()\n",
        "plt.show()"
      ],
      "metadata": {
        "colab": {
          "base_uri": "https://localhost:8080/",
          "height": 506
        },
        "id": "O6bFohkYqrEa",
        "outputId": "738739c4-92ee-4725-94a6-0a8455172ab4"
      },
      "execution_count": 7,
      "outputs": [
        {
          "output_type": "display_data",
          "data": {
            "text/plain": [
              "<Figure size 1400x500 with 2 Axes>"
            ],
            "image/png": "[encoded data removed]"
          },
          "metadata": {}
        }
      ]
    },
    {
      "cell_type": "code",
      "source": [
        "# 9. Write a Python script to calculate covariance between two datasets.\n",
        "\n",
        "import numpy as np\n",
        "\n",
        "# Sample datasets\n",
        "x = [5, 10, 15, 20, 25]\n",
        "y = [10, 20, 25, 35, 45]\n",
        "\n",
        "# 1. Manual calculation of covariance\n",
        "def manual_covariance(x, y):\n",
        "    n = len(x)\n",
        "    mean_x = sum(x) / n\n",
        "    mean_y = sum(y) / n\n",
        "    cov = sum((x[i] - mean_x) * (y[i] - mean_y) for i in range(n)) / (n - 1)\n",
        "    return cov\n",
        "\n",
        "# 2. Using NumPy's covariance function\n",
        "cov_matrix = np.cov(x, y)  # This returns the covariance matrix\n",
        "numpy_cov = cov_matrix[0][1]  # Covariance between x and y\n",
        "\n",
        "# Print results\n",
        "print(\"Manual Covariance:\", manual_covariance(x, y))\n",
        "print(\"NumPy Covariance:\", numpy_cov)"
      ],
      "metadata": {
        "colab": {
          "base_uri": "https://localhost:8080/"
        },
        "id": "nQSzVarzrbtI",
        "outputId": "8b856a58-c7f1-4ea4-8319-c3dd4e5f452e"
      },
      "execution_count": 8,
      "outputs": [
        {
          "output_type": "stream",
          "name": "stdout",
          "text": [
            "Manual Covariance: 106.25\n",
            "NumPy Covariance: 106.25\n"
          ]
        }
      ]
    },
    {
      "cell_type": "code",
      "source": [
        "# 10. Write a Python script to calculate the correlation coefficient between two datasets.\n",
        "\n",
        "import numpy as np\n",
        "from scipy.stats import pearsonr\n",
        "\n",
        "# -----------------------------\n",
        "# Sample datasets (edit freely)\n",
        "# -----------------------------\n",
        "x = [5, 10, 15, 20, 25]\n",
        "y = [10, 20, 25, 35, 45]\n",
        "\n",
        "# 1. Manual calculation of Pearson correlation\n",
        "def manual_correlation(x, y):\n",
        "    n = len(x)\n",
        "    mean_x = sum(x) / n\n",
        "    mean_y = sum(y) / n\n",
        "    cov_xy = sum((x[i] - mean_x) * (y[i] - mean_y) for i in range(n)) / (n - 1)\n",
        "    std_x = (sum((xi - mean_x) ** 2 for xi in x) / (n - 1)) ** 0.5\n",
        "    std"
      ],
      "metadata": {
        "id": "6MrZJxM5rt4I"
      },
      "execution_count": 9,
      "outputs": []
    },
    {
      "cell_type": "code",
      "source": [
        "# 11. Create a scatter plot to visualize the relationship between two variables5\n",
        "\n",
        "import numpy as np\n",
        "import matplotlib.pyplot as plt\n",
        "\n",
        "# Step 1: Generate sample data\n",
        "np.random.seed(42)\n",
        "x = np.random.uniform(0, 10, 100)          # Independent variable\n",
        "y = 2.5 * x + np.random.normal(0, 5, 100)  # Dependent variable with added noise\n",
        "\n",
        "# Step 2: Create scatter plot\n",
        "plt.figure(figsize=(8, 5))\n",
        "plt.scatter(x, y, color='dodgerblue', edgecolor='black', alpha=0.7)\n",
        "plt.title(\"Scatter Plot of Two Variables\")\n",
        "plt.xlabel(\"Variable X\")\n",
        "plt.ylabel(\"Variable Y\")\n",
        "plt.grid(True)\n",
        "plt.show()"
      ],
      "metadata": {
        "colab": {
          "base_uri": "https://localhost:8080/",
          "height": 487
        },
        "id": "YaXMt-P9r4aL",
        "outputId": "48a124ed-2b4b-4a0b-9dcd-2b10624d27f5"
      },
      "execution_count": 10,
      "outputs": [
        {
          "output_type": "display_data",
          "data": {
            "text/plain": [
              "<Figure size 800x500 with 1 Axes>"
            ],
            "image/png": "[encoded data removed]"
          },
          "metadata": {}
        }
      ]
    },
    {
      "cell_type": "code",
      "source": [
        "# 12.  Implement and compare simple random sampling and systematic sampling.\n",
        "import pandas as pd\n",
        "import numpy as np\n",
        "\n",
        "# Step 1: Create a sample dataset\n",
        "data = pd.DataFrame({\n",
        "    'ID': range(1, 101),  # IDs from 1 to 100\n",
        "    'Value': np.random.randint(10, 100, size=100)\n",
        "})\n",
        "\n",
        "# Step 2: Simple Random Sampling (e.g., 10 samples)\n",
        "simple_random_sample = data.sample(n=10, random_state=1)\n",
        "\n",
        "# Step 3: Systematic Sampling\n",
        "def systematic_sampling(df, sample_size):\n",
        "    step = len(df) // sample_size\n",
        "    indices = np.arange(0, len(df), step)\n",
        "    return df.iloc[indices[:sample_size]]\n",
        "\n",
        "systematic_sample = systematic_sampling(data, 10)\n",
        "\n",
        "# Step 4: Display results\n",
        "print(\"🔹 Simple Random Sample:\\n\", simple_random_sample)\n",
        "print(\"\\n🔹 Systematic Sample:\\n\", systematic_sample)"
      ],
      "metadata": {
        "colab": {
          "base_uri": "https://localhost:8080/"
        },
        "id": "-ZujyPAqsLvd",
        "outputId": "eda79d1b-4711-49f9-9369-df59e13bf3ab"
      },
      "execution_count": 11,
      "outputs": [
        {
          "output_type": "stream",
          "name": "stdout",
          "text": [
            "🔹 Simple Random Sample:\n",
            "     ID  Value\n",
            "80  81     67\n",
            "84  85     51\n",
            "33  34     55\n",
            "81  82     95\n",
            "93  94     77\n",
            "17  18     46\n",
            "36  37     56\n",
            "82  83     58\n",
            "69  70     41\n",
            "65  66     85\n",
            "\n",
            "🔹 Systematic Sample:\n",
            "     ID  Value\n",
            "0    1     30\n",
            "10  11     73\n",
            "20  21     62\n",
            "30  31     63\n",
            "40  41     36\n",
            "50  51     35\n",
            "60  61     29\n",
            "70  71     96\n",
            "80  81     67\n",
            "90  91     62\n"
          ]
        }
      ]
    },
    {
      "cell_type": "code",
      "source": [
        "# 13. Calculate the mean, median, and mode of grouped data.\n",
        "import pandas as pd\n",
        "import numpy as np\n",
        "\n",
        "# Step 1: Define grouped data (class intervals and frequencies)\n",
        "classes = ['0-10', '10-20', '20-30', '30-40', '40-50']\n",
        "freq = [5, 8, 15, 16, 6]\n",
        "\n",
        "# Step 2: Extract class midpoints\n",
        "def midpoint(interval):\n",
        "    low, high = map(int, interval.split('-'))\n",
        "    return (low + high) / 2\n",
        "\n",
        "midpoints = [midpoint(c) for c in classes]\n",
        "\n",
        "# Step 3: Create DataFrame\n",
        "df = pd.DataFrame({\n",
        "    'Class Interval': classes,\n",
        "    'Midpoint': midpoints,\n",
        "    'Frequency': freq\n",
        "})\n",
        "\n",
        "# Step 4: Calculate Mean of Grouped Data\n",
        "df['f * x'] = df['Midpoint'] * df['Frequency']\n",
        "mean = df['f * x'].sum() / df['Frequency'].sum()\n",
        "\n",
        "# Step 5: Calculate Median of Grouped Data\n",
        "cumulative_freq = np.cumsum(freq)\n",
        "N = sum(freq)\n",
        "median_class_index = next(i for i, total in enumerate(cumulative_freq) if total >= N/2)\n",
        "\n",
        "# Extract values for formula\n",
        "L = int(classes[median_class_index].split('-')[0])\n",
        "f = freq[median_class_index]\n",
        "F = cumulative_freq[median_class_index - 1] if median_class_index > 0 else 0\n",
        "h = int(classes[median_class_index].split('-')[1]) - L\n",
        "\n",
        "median = L + ((N/2 - F) / f) * h\n",
        "\n",
        "# Step 6: Calculate Mode of Grouped Data\n",
        "modal_class_index = np.argmax(freq)\n",
        "L_modal = int(classes[modal_class_index].split('-')[0])\n",
        "f1 = freq[modal_class_index]\n",
        "f0 = freq[modal_class_index - 1] if modal_class_index > 0 else 0\n",
        "f2 = freq[modal_class_index + 1] if modal_class_index < len(freq) - 1 else 0\n",
        "h_modal = int(classes[modal_class_index].split('-')[1]) - L_modal\n",
        "\n",
        "mode = L_modal + ((f1 - f0) / ((f1 - f0) + (f1 - f2))) * h_modal\n",
        "\n",
        "# Step 7: Print results\n",
        "print(\"Grouped Data:\\n\", df)\n",
        "print(\"\\nMean:\", round(mean, 2))\n",
        "print(\"Median:\", round(median, 2))\n",
        "print(\"Mode:\", round(mode, 2))"
      ],
      "metadata": {
        "colab": {
          "base_uri": "https://localhost:8080/"
        },
        "id": "Oo2mr_DYsVsD",
        "outputId": "2db76441-c45a-4d47-8ca7-cd63f21cd0f3"
      },
      "execution_count": 13,
      "outputs": [
        {
          "output_type": "stream",
          "name": "stdout",
          "text": [
            "Grouped Data:\n",
            "   Class Interval  Midpoint  Frequency  f * x\n",
            "0           0-10       5.0          5   25.0\n",
            "1          10-20      15.0          8  120.0\n",
            "2          20-30      25.0         15  375.0\n",
            "3          30-40      35.0         16  560.0\n",
            "4          40-50      45.0          6  270.0\n",
            "\n",
            "Mean: 27.0\n",
            "Median: 28.0\n",
            "Mode: 30.91\n"
          ]
        }
      ]
    },
    {
      "cell_type": "code",
      "source": [
        "# 14. Simulate data using Python and calculate its central tendency and dispersion.\n",
        "\n",
        "import numpy as np\n",
        "import pandas as pd\n",
        "from scipy import stats\n",
        "\n",
        "# Step 1: Simulate data (e.g., exam scores)\n",
        "np.random.seed(42)\n",
        "data = np.random.normal(loc=70, scale=10, size=1000)  # mean=70, std=10\n",
        "\n",
        "# Convert to DataFrame for easy viewing\n",
        "df = pd.DataFrame({'Scores': data})\n",
        "\n",
        "# Step 2: Central Tendency\n",
        "mean = np.mean(data)\n",
        "median = np.median(data)\n",
        "mode = stats.mode(data, keepdims=True)[0][0]\n",
        "\n",
        "# Step 3: Dispersion\n",
        "data_range = np.ptp(data)  # max - min\n",
        "variance = np.var(data, ddof=1)  # sample variance\n",
        "std_dev = np.std(data, ddof=1)   # sample standard deviation\n",
        "\n",
        "# Step 4: Display results\n",
        "print(\"Central Tendency:\")\n",
        "print(\"Mean   :\", round(mean, 2))\n",
        "print(\"Median :\", round(median, 2))\n",
        "print(\"Mode   :\", round(mode, 2))\n",
        "\n",
        "print(\"\\nDispersion:\")\n",
        "print(\"Range             :\", round(data_range, 2))\n",
        "print(\"Variance          :\", round(variance, 2))\n",
        "print(\"Standard Deviation:\", round(std_dev, 2))"
      ],
      "metadata": {
        "colab": {
          "base_uri": "https://localhost:8080/"
        },
        "id": "IFG0Wg6isjim",
        "outputId": "25760aea-270e-4b45-b6dd-ec48daf8f484"
      },
      "execution_count": 14,
      "outputs": [
        {
          "output_type": "stream",
          "name": "stdout",
          "text": [
            "Central Tendency:\n",
            "Mean   : 70.19\n",
            "Median : 70.25\n",
            "Mode   : 37.59\n",
            "\n",
            "Dispersion:\n",
            "Range             : 70.94\n",
            "Variance          : 95.89\n",
            "Standard Deviation: 9.79\n"
          ]
        }
      ]
    },
    {
      "cell_type": "code",
      "source": [
        "# 15. Use NumPy or pandas to summarize a dataset’s descriptive statistics.\n",
        "\n",
        "import numpy as np\n",
        "import pandas as pd\n",
        "from scipy.stats import mode, iqr\n",
        "\n",
        "# Step 1: Simulate a dataset (e.g., test scores)\n",
        "np.random.seed(0)\n",
        "data = np.random.normal(loc=75, scale=10, size=1000)  # Normal distribution\n",
        "\n",
        "# Convert to pandas DataFrame\n",
        "df = pd.DataFrame({'Scores': data})\n",
        "\n",
        "# Step 2: Summary using pandas .describe()\n",
        "summary = df.describe()\n",
        "\n",
        "# Step 3: Additional descriptive statistics\n",
        "mean = np.mean(data)\n",
        "median = np.median(data)\n",
        "mode_val = mode(data, keepdims=True)[0][0]\n",
        "variance = np.var(data, ddof=1)\n",
        "std_dev = np.std(data, ddof=1)\n",
        "data_range = np.ptp(data)\n",
        "iqr_val = iqr(data)\n",
        "\n",
        "# Step 4: Display results\n",
        "print(\"🔹 Pandas .describe() Output:\\n\")\n",
        "print(summary)\n",
        "\n",
        "print(\"\\n🔹 Additional Descriptive Statistics:\\n\")\n",
        "print(f\"Mean     : {mean:.2f}\")\n",
        "print(f\"Median   : {median:.2f}\")\n",
        "print(f\"Mode     : {mode_val:.2f}\")\n",
        "print(f\"Variance : {variance:.2f}\")\n",
        "print(f\"Std Dev  : {std_dev:.2f}\")\n",
        "print(f\"Range    : {data_range:.2f}\")\n",
        "print(f\"IQR      : {iqr_val:.2f}\")"
      ],
      "metadata": {
        "colab": {
          "base_uri": "https://localhost:8080/"
        },
        "id": "QWAP0upttHBC",
        "outputId": "b52c3255-9463-4851-d046-563c3edc47ce"
      },
      "execution_count": 15,
      "outputs": [
        {
          "output_type": "stream",
          "name": "stdout",
          "text": [
            "🔹 Pandas .describe() Output:\n",
            "\n",
            "            Scores\n",
            "count  1000.000000\n",
            "mean     74.547433\n",
            "std       9.875270\n",
            "min      44.538569\n",
            "25%      68.015799\n",
            "50%      74.419720\n",
            "75%      81.069506\n",
            "max     102.593551\n",
            "\n",
            "🔹 Additional Descriptive Statistics:\n",
            "\n",
            "Mean     : 74.55\n",
            "Median   : 74.42\n",
            "Mode     : 44.54\n",
            "Variance : 97.52\n",
            "Std Dev  : 9.88\n",
            "Range    : 58.05\n",
            "IQR      : 13.05\n"
          ]
        }
      ]
    },
    {
      "cell_type": "code",
      "source": [
        "# 16.  Plot a boxplot to understand the spread and identify outliers.\n",
        "\n",
        "import numpy as np\n",
        "import pandas as pd\n",
        "import matplotlib.pyplot as plt\n",
        "import seaborn as sns\n",
        "\n",
        "# Step 1: Generate normally distributed data\n",
        "np.random.seed(0)\n",
        "data = np.random.normal(loc=70, scale=10, size=1000)\n",
        "\n",
        "# Step 2: Add some outliers manually\n",
        "outliers = [30, 35, 120, 125]\n",
        "data_with_outliers = np.concatenate([data, outliers])\n",
        "\n",
        "# Step 3: Convert to DataFrame\n",
        "df = pd.DataFrame({'Scores': data_with_outliers})\n",
        "\n",
        "# Step 4: Create a boxplot\n",
        "plt.figure(figsize=(8, 5))\n",
        "sns.boxplot(data=df, x='Scores', color='lightblue')\n",
        "plt.title('Boxplot of Scores with Outliers')\n",
        "plt.xlabel('Scores')\n",
        "plt.grid(True)\n",
        "plt"
      ],
      "metadata": {
        "colab": {
          "base_uri": "https://localhost:8080/",
          "height": 504
        },
        "id": "6d_S8ScitPwA",
        "outputId": "74b5bf95-c73c-4a50-c39a-b676f5001159"
      },
      "execution_count": 16,
      "outputs": [
        {
          "output_type": "execute_result",
          "data": {
            "text/plain": [
              "<module 'matplotlib.pyplot' from '/usr/local/lib/python3.11/dist-packages/matplotlib/pyplot.py'>"
            ]
          },
          "metadata": {},
          "execution_count": 16
        },
        {
          "output_type": "display_data",
          "data": {
            "text/plain": [
              "<Figure size 800x500 with 1 Axes>"
            ],
            "image/png": "[encoded data removed]"
          },
          "metadata": {}
        }
      ]
    },
    {
      "cell_type": "code",
      "source": [
        "# 16.  Plot a boxplot to understand the spread and identify outliers.\n",
        "\n",
        "import numpy as np\n",
        "import pandas as pd\n",
        "import matplotlib.pyplot as plt\n",
        "import seaborn as sns\n",
        "\n",
        "# Step 1: Generate a normal dataset\n",
        "np.random.seed(42)\n",
        "data = np.random.normal(loc=70, scale=10, size=1000)  # Mean=70, Std=10\n",
        "\n",
        "# Step 2: Add outliers\n",
        "outliers = [25, 30, 120, 130]  # Clearly abnormal values\n",
        "data_with_outliers = np.concatenate([data, outliers])\n",
        "\n",
        "# Step 3: Create a DataFrame\n",
        "df = pd.DataFrame({'Scores': data_with_outliers})\n",
        "\n",
        "# Step 4: Plot the boxplot\n",
        "plt.figure(figsize=(8, 5))\n",
        "sns.boxplot(x='Scores', data=df, color='lightgreen')\n",
        "plt.title(\"Boxplot of Simulated Scores with Outliers\")\n",
        "plt.xlabel(\"Score\")\n",
        "plt.grid(True)\n",
        "plt.show()"
      ],
      "metadata": {
        "colab": {
          "base_uri": "https://localhost:8080/",
          "height": 487
        },
        "id": "j_cuJd4BtaPE",
        "outputId": "a0588d4e-1feb-4959-d3f3-760978eb482b"
      },
      "execution_count": 18,
      "outputs": [
        {
          "output_type": "display_data",
          "data": {
            "text/plain": [
              "<Figure size 800x500 with 1 Axes>"
            ],
            "image/png": "[encoded data removed]"
          },
          "metadata": {}
        }
      ]
    },
    {
      "cell_type": "code",
      "source": [
        "# 17 Calculate the interquartile range (IQR) of a dataset.\n",
        "\n",
        "import numpy as np\n",
        "from scipy.stats import iqr\n",
        "\n",
        "# Step 1: Create or simulate a dataset\n",
        "np.random.seed(42)\n",
        "data = np.random.normal(loc=70, scale=10, size=1000)\n",
        "\n",
        "# Step 2: Manual IQR calculation\n",
        "q1 = np.percentile(data, 25)\n",
        "q3 = np.percentile(data, 75)\n",
        "manual_iqr = q3 - q1\n",
        "\n",
        "# Step 3: Using scipy\n",
        "scipy_iqr = iqr(data)\n",
        "\n",
        "# Step 4: Display results\n",
        "print(\"Manual IQR:\", round(manual_iqr, 2))\n",
        "print(\"SciPy IQR :\", round(scipy_iqr, 2))"
      ],
      "metadata": {
        "colab": {
          "base_uri": "https://localhost:8080/"
        },
        "id": "Z__tRs8WtjcD",
        "outputId": "3cafba43-458b-4113-c3c1-e17e91cba95b"
      },
      "execution_count": 19,
      "outputs": [
        {
          "output_type": "stream",
          "name": "stdout",
          "text": [
            "Manual IQR: 12.96\n",
            "SciPy IQR : 12.96\n"
          ]
        }
      ]
    },
    {
      "cell_type": "code",
      "source": [
        "# 18. Implement Z-score normalization and explain its significance.\n",
        "\n",
        "import numpy as np\n",
        "import pandas as pd\n",
        "from scipy.stats import zscore\n",
        "\n",
        "# Step 1: Create a sample dataset\n",
        "np.random.seed(1)\n",
        "data = np.random.normal(loc=100, scale=15, size=10)\n",
        "df = pd.DataFrame({'Original': data})\n",
        "\n",
        "# Step 2: Z-score normalization (manual)\n",
        "mean = np.mean(data)\n",
        "std = np.std(data)\n",
        "df['Z-Score Manual'] = (df['Original'] - mean) / std\n",
        "\n",
        "# Step 3: Z-score using SciPy\n",
        "df['Z-Score Scipy'] = zscore(df['Original'])\n",
        "\n",
        "# Step 4: Display results\n",
        "print(df)"
      ],
      "metadata": {
        "colab": {
          "base_uri": "https://localhost:8080/"
        },
        "id": "HZV9WVvFt7VT",
        "outputId": "928dffd7-cd8b-4409-fb9d-d7210381ea00"
      },
      "execution_count": 20,
      "outputs": [
        {
          "output_type": "stream",
          "name": "stdout",
          "text": [
            "     Original  Z-Score Manual  Z-Score Scipy\n",
            "0  124.365180        1.445536       1.445536\n",
            "1   90.823654       -0.432124      -0.432124\n",
            "2   92.077424       -0.361938      -0.361938\n",
            "3   83.905471       -0.819405      -0.819405\n",
            "4  112.981114        0.808254       0.808254\n",
            "5   65.476920       -1.851037      -1.851037\n",
            "6  126.172176        1.546691       1.546691\n",
            "7   88.581896       -0.557618      -0.557618\n",
            "8  104.785586        0.349467       0.349467\n",
            "9   96.259444       -0.127827      -0.127827\n"
          ]
        }
      ]
    },
    {
      "cell_type": "code",
      "source": [
        "# 19. Compare two datasets using their standard deviations.\n",
        "\n",
        "import numpy as np\n",
        "\n",
        "# Step 1: Create two datasets\n",
        "np.random.seed(0)\n",
        "\n",
        "# Dataset A: tightly clustered around the mean\n",
        "data_a = np.random.normal(loc=50, scale=5, size=100)\n",
        "\n",
        "# Dataset B: more spread out around the mean\n",
        "data_b = np.random.normal(loc=50, scale=15, size=100)\n",
        "\n",
        "# Step 2: Calculate standard deviation\n",
        "std_a = np.std(data_a, ddof=1)\n",
        "std_b = np.std(data_b, ddof=1)\n",
        "\n",
        "# Step 3: Print results\n",
        "print(\"Standard Deviation of Dataset A:\", round(std_a, 2))\n",
        "print(\"Standard Deviation of Dataset B:\", round(std_b, 2))\n",
        "\n",
        "# Step 4: Interpretation\n",
        "if std_a > std_b:\n",
        "    print(\"Dataset A has more variability than Dataset B.\")\n",
        "elif std_b > std_a:\n",
        "    print(\"Dataset B has more variability than Dataset A.\")\n",
        "else:\n",
        "    print(\"Both datasets have similar variability.\")"
      ],
      "metadata": {
        "colab": {
          "base_uri": "https://localhost:8080/"
        },
        "id": "rYL6-GBNuG74",
        "outputId": "889f9a35-d909-488d-f4d0-d11e11200c37"
      },
      "execution_count": 21,
      "outputs": [
        {
          "output_type": "stream",
          "name": "stdout",
          "text": [
            "Standard Deviation of Dataset A: 5.06\n",
            "Standard Deviation of Dataset B: 15.6\n",
            "Dataset B has more variability than Dataset A.\n"
          ]
        }
      ]
    },
    {
      "cell_type": "code",
      "source": [
        "# 20. Write a Python program to visualize covariance using a heatmap.\n",
        "\n",
        "import numpy as np\n",
        "import pandas as pd\n",
        "import seaborn as sns\n",
        "import matplotlib.pyplot as plt\n",
        "\n",
        "# Step 1: Simulate a dataset with 3 variables\n",
        "np.random.seed(42)\n",
        "size = 100\n",
        "\n",
        "x = np.random.normal(50, 10, size)\n",
        "y = 2 * x + np.random.normal(0, 5, size)   # Positively correlated with x\n",
        "z = np.random.normal(30, 15, size)         # Independent variable\n",
        "\n",
        "# Step 2: Create a DataFrame\n",
        "df = pd.DataFrame({\n",
        "    'X': x,\n",
        "    'Y': y,\n",
        "    'Z': z\n",
        "})\n",
        "\n",
        "# Step 3: Compute covariance matrix\n",
        "cov_matrix = df.cov()\n",
        "\n",
        "# Step 4: Plot heatmap\n",
        "plt.figure(figsize=(6, 5))\n",
        "sns.heatmap(cov_matrix, annot=True, cmap='coolwarm', fmt=\".2f\")\n",
        "plt.title(\"Covariance Matrix Heatmap\")\n",
        "plt.show()"
      ],
      "metadata": {
        "colab": {
          "base_uri": "https://localhost:8080/",
          "height": 468
        },
        "id": "IuokdCFouQkF",
        "outputId": "716260aa-8915-4d40-f6b2-565d90cf8b0b"
      },
      "execution_count": 22,
      "outputs": [
        {
          "output_type": "display_data",
          "data": {
            "text/plain": [
              "<Figure size 600x500 with 2 Axes>"
            ],
            "image/png": "[encoded data removed]"
          },
          "metadata": {}
        }
      ]
    },
    {
      "cell_type": "code",
      "source": [
        "# 21. Use seaborn to create a correlation matrix for a dataset.\n",
        "\n",
        "import numpy as np\n",
        "import pandas as pd\n",
        "import seaborn as sns\n",
        "import matplotlib.pyplot as plt\n",
        "\n",
        "# Step 1: Simulate a dataset\n",
        "np.random.seed(1)\n",
        "size = 100\n",
        "a = np.random.normal(50, 10, size)\n",
        "b = 2 * a + np.random.normal(0, 5, size)  # Strong positive correlation with 'a'\n",
        "c = np.random.normal(30, 15, size)        # Weak/no correlation\n",
        "d = np.random.normal(80, 20, size) - a    # Negative correlation with 'a'\n",
        "\n",
        "# Step 2: Create a DataFrame\n",
        "df = pd.DataFrame({\n",
        "    'A': a,\n",
        "    'B': b,\n",
        "    'C': c,\n",
        "    'D': d\n",
        "})\n",
        "\n",
        "# Step 3: Compute correlation matrix\n",
        "correlation_matrix = df.corr()\n",
        "\n",
        "# Step 4: Plot heatmap\n",
        "plt.figure(figsize=(8, 6))\n",
        "sns.heatmap(correlation_matrix, annot=True, cmap='coolwarm', fmt=\".2f\", square=True)\n",
        "plt.title(\"Correlation Matrix Heatmap\")\n",
        "plt.show()"
      ],
      "metadata": {
        "colab": {
          "base_uri": "https://localhost:8080/",
          "height": 545
        },
        "id": "KOHk9DyKufCX",
        "outputId": "993859a2-0246-4351-8b15-812cceaafba1"
      },
      "execution_count": 23,
      "outputs": [
        {
          "output_type": "display_data",
          "data": {
            "text/plain": [
              "<Figure size 800x600 with 2 Axes>"
            ],
            "image/png": "[encoded data removed]"
          },
          "metadata": {}
        }
      ]
    },
    {
      "cell_type": "code",
      "source": [
        "# 22. Generate a dataset and implement both variance and standard deviation computations.\n",
        "\n",
        "import numpy as np\n",
        "\n",
        "# Step 1: Generate a dataset (e.g., exam scores)\n",
        "np.random.seed(0)\n",
        "data = np.random.normal(loc=75, scale=10, size=20)\n",
        "\n",
        "# Step 2: Manual calculations (sample statistics)\n",
        "mean = np.mean(data)\n",
        "variance_manual = sum((x - mean) ** 2 for x in data) / (len(data) - 1)\n",
        "std_dev_manual = variance_manual ** 0.5\n",
        "\n",
        "# Step 3: NumPy calculations\n",
        "variance_numpy = np.var(data, ddof=1)  # ddof=1 for sample variance\n",
        "std_dev_numpy = np.std(data, ddof=1)\n",
        "\n",
        "# Step 4: Display results\n",
        "print(\"Dataset:\", np.round(data, 2))\n",
        "print(\"\\n🔢 Manual Calculations:\")\n",
        "print(\"Variance       :\", round(variance_manual, 2))\n",
        "print(\"Std Deviation  :\", round(std_dev_manual, 2))\n",
        "\n",
        "print(\"\\n⚙️ NumPy Calculations:\")\n",
        "print(\"Variance       :\", round(variance_numpy, 2))\n",
        "print(\"Std Deviation  :\", round(std_dev_numpy, 2))"
      ],
      "metadata": {
        "colab": {
          "base_uri": "https://localhost:8080/"
        },
        "id": "DWbVplNZun4F",
        "outputId": "61573053-9579-48c5-d83f-f3e3589fc1a7"
      },
      "execution_count": 24,
      "outputs": [
        {
          "output_type": "stream",
          "name": "stdout",
          "text": [
            "Dataset: [92.64 79.   84.79 97.41 93.68 65.23 84.5  73.49 73.97 79.11 76.44 89.54\n",
            " 82.61 76.22 79.44 78.34 89.94 72.95 78.13 66.46]\n",
            "\n",
            "🔢 Manual Calculations:\n",
            "Variance       : 76.09\n",
            "Std Deviation  : 8.72\n",
            "\n",
            "⚙️ NumPy Calculations:\n",
            "Variance       : 76.09\n",
            "Std Deviation  : 8.72\n"
          ]
        }
      ]
    },
    {
      "cell_type": "code",
      "source": [
        "# 23. Visualize skewness and kurtosis using Python libraries like matplotlib or seaborn.\n",
        "\n",
        "import numpy as np\n",
        "\n",
        "# Step 1: Generate a dataset (e.g., exam scores)\n",
        "np.random.seed(0)\n",
        "data = np.random.normal(loc=75, scale=10, size=20)\n",
        "\n",
        "# Step 2: Manual calculations (sample statistics)\n",
        "mean = np.mean(data)\n",
        "variance_manual = sum((x - mean) ** 2 for x in data) / (len(data) - 1)\n",
        "std_dev_manual = variance_manual ** 0.5\n",
        "\n",
        "# Step 3: NumPy calculations\n",
        "variance_numpy = np.var(data, ddof=1)  # ddof=1 for sample variance\n",
        "std_dev_numpy = np.std(data, ddof=1)\n",
        "\n",
        "# Step 4: Display results\n",
        "print(\"Dataset:\", np.round(data, 2))\n",
        "print(\"\\n🔢 Manual Calculations:\")\n",
        "print(\"Variance       :\", round(variance_manual, 2))\n",
        "print(\"Std Deviation  :\", round(std_dev_manual, 2))\n",
        "\n",
        "print(\"\\n⚙️ NumPy Calculations:\")\n",
        "print(\"Variance       :\", round(variance_numpy, 2))\n",
        "print(\"Std Deviation  :\", round(std_dev_numpy, 2))"
      ],
      "metadata": {
        "colab": {
          "base_uri": "https://localhost:8080/"
        },
        "id": "kpfZayPOuwEq",
        "outputId": "0d3b4e6b-e432-4132-d24c-9aa267451667"
      },
      "execution_count": 25,
      "outputs": [
        {
          "output_type": "stream",
          "name": "stdout",
          "text": [
            "Dataset: [92.64 79.   84.79 97.41 93.68 65.23 84.5  73.49 73.97 79.11 76.44 89.54\n",
            " 82.61 76.22 79.44 78.34 89.94 72.95 78.13 66.46]\n",
            "\n",
            "🔢 Manual Calculations:\n",
            "Variance       : 76.09\n",
            "Std Deviation  : 8.72\n",
            "\n",
            "⚙️ NumPy Calculations:\n",
            "Variance       : 76.09\n",
            "Std Deviation  : 8.72\n"
          ]
        }
      ]
    },
    {
      "cell_type": "code",
      "source": [
        "# 24. Implement the Pearson and Spearman correlation coefficients for a dataset.\n",
        "\n",
        "import numpy as np\n",
        "from scipy.stats import pearsonr, spearmanr\n",
        "\n",
        "# Step 1: Simulate a dataset\n",
        "np.random.seed(42)\n",
        "x = np.random.uniform(10, 100, 50)                # X: Random values\n",
        "y = 2 * x + np.random.normal(0, 10, 50)           # Y: Linear + noise\n",
        "z = np.sort(np.random.uniform(10, 100, 50))[::-1] # Z: Monotonic (reverse sorted)\n",
        "\n",
        "# Step 2: Compute Pearson and Spearman correlations\n",
        "\n",
        "# X and Y: Strong linear relationship\n",
        "pearson_xy, _ = pearsonr(x, y)\n",
        "spearman_xy, _ = spearmanr(x, y)\n",
        "\n",
        "# X and Z: Strong monotonic, weak linear\n",
        "pearson_xz, _ = pearsonr(x, z)\n",
        "spearman_xz, _ = spearmanr(x, z)\n",
        "\n",
        "# Step 3: Display results\n",
        "print(\"🔹 X vs Y (Linear Relationship)\")\n",
        "print(f\"Pearson  Correlation: {pearson_xy:.4f}\")\n",
        "print(f\"Spearman Correlation: {spearman_xy:.4f}\\n\")\n",
        "\n",
        "print(\"🔹 X vs Z (Monotonic, Not Linear)\")\n",
        "print(f\"Pearson  Correlation: {pearson_xz:.4f}\")\n",
        "print(f\"Spearman Correlation: {spearman_xz:.4f}\")"
      ],
      "metadata": {
        "colab": {
          "base_uri": "https://localhost:8080/"
        },
        "id": "U2OtA_aTu6Zg",
        "outputId": "444e0cb9-c4f4-4522-a691-b2d8f5259eec"
      },
      "execution_count": 26,
      "outputs": [
        {
          "output_type": "stream",
          "name": "stdout",
          "text": [
            "🔹 X vs Y (Linear Relationship)\n",
            "Pearson  Correlation: 0.9844\n",
            "Spearman Correlation: 0.9795\n",
            "\n",
            "🔹 X vs Z (Monotonic, Not Linear)\n",
            "Pearson  Correlation: 0.0680\n",
            "Spearman Correlation: 0.0516\n"
          ]
        }
      ]
    },
    {
      "cell_type": "code",
      "source": [],
      "metadata": {
        "id": "E00KZ__dvE2C"
      },
      "execution_count": null,
      "outputs": []
    }
  ]
}